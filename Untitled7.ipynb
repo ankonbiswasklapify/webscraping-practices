{
 "cells": [
  {
   "cell_type": "code",
   "execution_count": 4,
   "id": "08cf2899-c3fd-4d0d-981e-431e1b9046cd",
   "metadata": {},
   "outputs": [
    {
     "name": "stderr",
     "output_type": "stream",
     "text": [
      "\n",
      "\n",
      "====== WebDriver manager ======\n",
      "Current google-chrome version is 107.0.5304\n",
      "Get LATEST driver version for 107.0.5304\n",
      "Driver [C:\\Users\\USER\\.wdm\\drivers\\chromedriver\\win32\\107.0.5304.62\\chromedriver.exe] found in cache\n"
     ]
    },
    {
     "name": "stdout",
     "output_type": "stream",
     "text": [
      "Most relevant﻿\n",
      "CommentsMost relevant﻿Mdkamrul HasanOne of my favorites mr.75246 d6 repliesMohammad Asadul HabibOne of my favorites mr.75186 d2 repliesTop fanMd Shukkur AliOne of my favorites226 d5 repliesBlucheezGlamour & Elegance with Blucheez 106 d5 repliesTop fanSK JA HidOne of my favorites176 d2 repliesMd MishkatOne of my favorites186 d1 replyView more comments6 of 2,407\n"
     ]
    },
    {
     "ename": "AttributeError",
     "evalue": "'NoneType' object has no attribute 'text'",
     "output_type": "error",
     "traceback": [
      "\u001b[1;31m---------------------------------------------------------------------------\u001b[0m",
      "\u001b[1;31mAttributeError\u001b[0m                            Traceback (most recent call last)",
      "\u001b[1;32m<ipython-input-4-32357ba029bc>\u001b[0m in \u001b[0;36m<module>\u001b[1;34m\u001b[0m\n\u001b[0;32m     21\u001b[0m \u001b[1;31m# print(soup)\u001b[0m\u001b[1;33m\u001b[0m\u001b[1;33m\u001b[0m\u001b[1;33m\u001b[0m\u001b[0m\n\u001b[0;32m     22\u001b[0m \u001b[1;32mfor\u001b[0m \u001b[0mx1jx94hy\u001b[0m \u001b[1;32min\u001b[0m \u001b[0msoup\u001b[0m\u001b[1;33m.\u001b[0m\u001b[0mfind_all\u001b[0m\u001b[1;33m(\u001b[0m\u001b[1;34m\"div\"\u001b[0m\u001b[1;33m,\u001b[0m \u001b[1;33m{\u001b[0m\u001b[1;34m\"class\"\u001b[0m\u001b[1;33m:\u001b[0m \u001b[1;34m\"x1jx94hy\"\u001b[0m\u001b[1;33m}\u001b[0m\u001b[1;33m)\u001b[0m\u001b[1;33m:\u001b[0m\u001b[1;33m\u001b[0m\u001b[1;33m\u001b[0m\u001b[0m\n\u001b[1;32m---> 23\u001b[1;33m     \u001b[0mcomment\u001b[0m \u001b[1;33m=\u001b[0m \u001b[0mx1jx94hy\u001b[0m\u001b[1;33m.\u001b[0m\u001b[0mfind\u001b[0m\u001b[1;33m(\u001b[0m\u001b[1;34m\"div\"\u001b[0m\u001b[1;33m,\u001b[0m \u001b[1;33m{\u001b[0m\u001b[1;34m\"class\"\u001b[0m\u001b[1;33m:\u001b[0m \u001b[1;34m\"xdj266r\"\u001b[0m\u001b[1;33m}\u001b[0m\u001b[1;33m)\u001b[0m\u001b[1;33m.\u001b[0m\u001b[0mtext\u001b[0m\u001b[1;33m\u001b[0m\u001b[1;33m\u001b[0m\u001b[0m\n\u001b[0m\u001b[0;32m     24\u001b[0m     \u001b[0mprint\u001b[0m\u001b[1;33m(\u001b[0m\u001b[0mcomment\u001b[0m\u001b[1;33m)\u001b[0m\u001b[1;33m\u001b[0m\u001b[1;33m\u001b[0m\u001b[0m\n\u001b[0;32m     25\u001b[0m     \u001b[0mtop\u001b[0m \u001b[1;33m=\u001b[0m \u001b[0mdriver\u001b[0m\u001b[1;33m.\u001b[0m\u001b[0mexecute_script\u001b[0m\u001b[1;33m(\u001b[0m\u001b[1;34m\"return document.body.scrollHeight;\"\u001b[0m\u001b[1;33m)\u001b[0m\u001b[1;33m\u001b[0m\u001b[1;33m\u001b[0m\u001b[0m\n",
      "\u001b[1;31mAttributeError\u001b[0m: 'NoneType' object has no attribute 'text'"
     ]
    }
   ],
   "source": [
    "import requests\n",
    "import bs4\n",
    "from selenium import webdriver\n",
    "from selenium.webdriver.common.by import By\n",
    "from selenium.webdriver.support.ui import WebDriverWait\n",
    "from selenium.webdriver.support import expected_conditions as EC\n",
    "import time\n",
    "from webdriver_manager.chrome import ChromeDriverManager\n",
    "url='https://www.facebook.com/photo?fbid=682177093261553&set=a.294278542051412'\n",
    "driver = webdriver.Chrome(ChromeDriverManager().install())\n",
    "driver.get(url)\n",
    "driver.maximize_window()\n",
    "wait = WebDriverWait(driver, 30)\n",
    "wait.until(EC.visibility_of_element_located((By.CLASS_NAME, \"x1jx94hy\")))\n",
    "html = driver.page_source\n",
    "soup = bs4.BeautifulSoup(html)\n",
    "# a=soup.find_all(\"div\", {\"class\": \"x1iorvi4\"})\n",
    "# # print(len(a))\n",
    "# for i in a:\n",
    "#   print(i.text)\n",
    "# print(soup)\n",
    "for x1jx94hy in soup.find_all(\"div\", {\"class\": \"x1jx94hy\"}): \n",
    "    comment = x1jx94hy.find(\"div\", {\"class\": \"xdj266r\"}).text\n",
    "    print(comment)\n",
    "    top = driver.execute_script(\"return document.body.scrollHeight;\") \n",
    "    while True:\n",
    "        driver.execute_script(\"window.scrollTo(0, document.body.scrollHeight);\")\n",
    "        time.sleep(5)\n",
    "        height = driver.execute_script(\"return document.body.scrollHeight;\") \n",
    "        if height == top: \n",
    "            break \n",
    "        top = height\n",
    "    link_txt=x1jx94hy.text.rstrip()\n",
    "    print(link_txt)\n",
    "#     elem = driver.find_element(By.LINK_TEXT,x1jx94hy)\n",
    "#     elem.location_once_scrolled_into_view\n",
    "#     elem.click()\n",
    "    time.sleep(2)    \n",
    "    # path = \"//[normalize-space()='\"+comment+\"']\"  #//a[normalize-space()\n",
    "#     path =\"//div[@class='x78zum5 x13a6bvl xdj266r xktsk01 xat24cr x1d52u69'][normalize-space()='\"+comment+\"']\"\n",
    "#     elem = driver.find_element(By.XPATH,path)\n",
    "#     elem.location_once_scrolled_into_view\n",
    "#     elem.click()    \n",
    "     \n",
    "time.sleep(10)"
   ]
  },
  {
   "cell_type": "code",
   "execution_count": null,
   "id": "81e0f506-b500-47c4-896a-27b29cdda73b",
   "metadata": {},
   "outputs": [],
   "source": []
  }
 ],
 "metadata": {
  "kernelspec": {
   "display_name": "Python 3",
   "language": "python",
   "name": "python3"
  },
  "language_info": {
   "codemirror_mode": {
    "name": "ipython",
    "version": 3
   },
   "file_extension": ".py",
   "mimetype": "text/x-python",
   "name": "python",
   "nbconvert_exporter": "python",
   "pygments_lexer": "ipython3",
   "version": "3.9.2"
  }
 },
 "nbformat": 4,
 "nbformat_minor": 5
}
