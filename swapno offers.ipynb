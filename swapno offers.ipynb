{
 "cells": [
  {
   "cell_type": "code",
   "execution_count": 7,
   "id": "3f6846e4-c422-4f19-afff-b556776b2e0d",
   "metadata": {},
   "outputs": [
    {
     "name": "stdout",
     "output_type": "stream",
     "text": [
      "[{'name': 'Baby Romper ', 'image': 'https://storage.sg.content-cdn.io/cdn-cgi/image/width=400,height=400,quality=75,format=auto,fit=cover,g=top/in-resources/8845e144-8902-4204-b80f-9dc7dc2f4bcb/Images/ProductImages/Source/Baby Romper 3373515.jpg', 'quantity': '48 Hours Delivery ', 'price': '160', 'discount': 0, 'link': 'https:http://www.shwapno.com/products/lifestyle-kids/na/baby-romper/pid-16973491.aspx?vpid=13733185'}, {'name': 'RFL Baby Rocker ', 'image': 'https://storage.sg.content-cdn.io/cdn-cgi/image/width=400,height=400,quality=75,format=auto,fit=cover,g=top/in-resources/8845e144-8902-4204-b80f-9dc7dc2f4bcb/Images/ProductImages/Source/4213702.jpg', 'quantity': ' ', 'price': '510', 'discount': ' 600', 'link': 'https:https://www.shwapno.com/products/gift--toys/rfl/rfl-baby-rocker/pid-16524861.aspx'}, {'name': 'Savlon Baby Wipes 80 Pcs* ', 'image': 'https://storage.sg.content-cdn.io/cdn-cgi/image/width=400,height=400,quality=75,format=auto,fit=cover,g=top/in-resources/8845e144-8902-4204-b80f-9dc7dc2f4bcb/Images/ProductImages/Source/2101842.jpg', 'quantity': '80 Pcs ', 'price': '200', 'discount': 0, 'link': 'https:https://www.shwapno.com/products/baby-food--care-baby-wipes/savlon/savlon-baby-wipes-80-pcs/pid-12206510.aspx'}, {'name': 'Meril Baby Shampoo 110 ml* ', 'image': 'https://storage.sg.content-cdn.io/cdn-cgi/image/width=400,height=400,quality=75,format=auto,fit=cover,g=top/in-resources/8845e144-8902-4204-b80f-9dc7dc2f4bcb/Images/ProductImages/Source/2100048.jpg', 'quantity': '110 ml ', 'price': '120', 'discount': 0, 'link': 'https:https://www.shwapno.com/products/baby-food--care-baby-accessories/meril/meril-baby-shampoo-110-ml/pid-12207118.aspx'}, {'name': 'Meril Baby Lotion 200 ml ', 'image': 'https://storage.sg.content-cdn.io/cdn-cgi/image/width=400,height=400,quality=75,format=auto,fit=cover,g=top/in-resources/8845e144-8902-4204-b80f-9dc7dc2f4bcb/Images/ProductImages/Source/2100095.jpg', 'quantity': '200 ml ', 'price': '230', 'discount': 0, 'link': 'https:https://www.shwapno.com/products/baby-food--care-baby-accessories/meril/meril-baby-lotion-200-ml/pid-12207128.aspx'}, {'name': 'Meril Baby Lotion 100 ml* ', 'image': 'https://storage.sg.content-cdn.io/cdn-cgi/image/width=400,height=400,quality=75,format=auto,fit=cover,g=top/in-resources/8845e144-8902-4204-b80f-9dc7dc2f4bcb/Images/ProductImages/Source/2100094.jpg', 'quantity': '100 ml ', 'price': '120', 'discount': 0, 'link': 'https:https://www.shwapno.com/products/personal-care-skin-care/meril/meril-baby-lotion-100-ml/pid-15267393.aspx'}, {'name': 'Savlon Baby Wipes 60 Pcs ', 'image': 'https:https://martjackassets.blob.core.windows.net/css/storeui/images/show_loader.gif', 'quantity': '60 Pcs ', 'price': '150', 'discount': 0, 'link': 'https:https://www.shwapno.com/products/baby-food--care-baby-wipes/savlon/savlon-baby-wipes-60-pcs/pid-16563789.aspx'}, {'name': 'Baby Mask Box (10 Pcs) ', 'image': 'https:https://martjackassets.blob.core.windows.net/css/storeui/images/show_loader.gif', 'quantity': '10 Pcs (48 Hours Delivery) ', 'price': '250', 'discount': 0, 'link': 'https:https://www.shwapno.com/products/gift--toys/na/baby-mask-box-(10-pcs)/pid-17016133.aspx'}, {'name': 'Pozzy Baby Wet Towel Wipes 72 Pcs ', 'image': 'https:https://martjackassets.blob.core.windows.net/css/storeui/images/show_loader.gif', 'quantity': '72 Pcs ', 'price': '160', 'discount': 0, 'link': 'https:https://www.shwapno.com/products/baby-food--care-baby-wipes/pozzy/pozzy-baby-wet-towel-wipes-72-pcs/pid-12099736.aspx'}, {'name': \"Johnson's Baby Gentle Cleansing 56 Wipes* \", 'image': 'https:https://martjackassets.blob.core.windows.net/css/storeui/images/show_loader.gif', 'quantity': '56 Wipes ', 'price': '355', 'discount': 0, 'link': 'https:https://www.shwapno.com/products/baby-food--care-baby-diapers/johnsons/johnsons-baby-gentle-cleansing-56-wipes/pid-12206490.aspx'}, {'name': \"Johnson's Baby Hair Oil 100 ml (Ind)* \", 'image': 'https:https://martjackassets.blob.core.windows.net/css/storeui/images/show_loader.gif', 'quantity': '100 ml ', 'price': '220', 'discount': 0, 'link': 'https:https://www.shwapno.com/products/baby-food--care-baby-accessories/johnsons/johnsons-baby-hair-oil-100-ml-(ind)/pid-12206912.aspx'}, {'name': \"Johnson's Baby Hair Oil 200 ml (Ind)* \", 'image': 'https:https://martjackassets.blob.core.windows.net/css/storeui/images/show_loader.gif', 'quantity': '200 ml ', 'price': '367', 'discount': 0, 'link': 'https:https://www.shwapno.com/products/baby-food--care-baby-accessories/johnsons/johnsons-baby-hair-oil-200-ml-(ind)/pid-12206930.aspx'}]\n"
     ]
    }
   ],
   "source": [
    "import bs4\n",
    "from selenium import webdriver\n",
    "from selenium.webdriver.common.by import By\n",
    "from selenium.webdriver.support.ui import WebDriverWait\n",
    "from selenium.webdriver.support import expected_conditions as EC\n",
    "from flask import request, jsonify\n",
    "url = 'https://www.shwapno.com/'\n",
    "offers = 'https://www.shwapno.com/SearchResults.aspx?search=baby'\n",
    "driver = webdriver.Chrome(executable_path=r'D:\\Py\\Hive-Ecommerce\\static\\chromedriver.exe')\n",
    "driver.get(offers)\n",
    "driver.find_element_by_xpath(\"//select[@id='state']/option[text()='Dhaka']\").click()\n",
    "driver.find_element_by_xpath(\"//select[@id='city']/option[text()='Badda']\").click()\n",
    "driver.find_element_by_id(\"btnFindStore\") .click()\n",
    "\n",
    "wait = WebDriverWait(driver, 30)\n",
    "wait.until(EC.visibility_of_element_located((By.CLASS_NAME, \"bucket\")))\n",
    "html = driver.page_source\n",
    "soup = bs4.BeautifulSoup(html)\n",
    "driver.close()\n",
    "output = []\n",
    "for product in soup.find_all(\"div\", {\"class\": \"bucket\"}):\n",
    "    image = product.find(\"img\")\n",
    "    title = product.find(\"h4\", {\"class\": \"mtb-title\"})\n",
    "    price = product.find(\"label\", {\"class\": \"mtb-ofr\"}).find(\"span\", {\"class\": \"sp_amt\"})\n",
    "    discount = product.find(\"label\", {\"class\": \"mtb-mrp\"}).find(\"span\", {\"class\": \"sp_amt\"}) if len(product.find_all(\"label\", {\"class\": \"mtb-mrp\"})) else 0\n",
    "    quantity = product.find(\"div\", {\"class\": \"mtb-desc\"})\n",
    "    link = product.find(\"a\")\n",
    "    image = image['src']\n",
    "    productName = title.text\n",
    "    price = price.text\n",
    "    discount = discount.text if discount else 0\n",
    "    quantity =  quantity.text\n",
    "    link = link['href']\n",
    "    output.append({\n",
    "            'name': productName,\n",
    "            'image': 'https:' +image,\n",
    "            'quantity': quantity,\n",
    "            'price': price,\n",
    "            'discount': discount,\n",
    "            'link': 'https:' + link\n",
    "        })\n",
    "    \n",
    "print(output)"
   ]
  },
  {
   "cell_type": "code",
   "execution_count": null,
   "id": "75922831-8289-4e26-9ce5-11e35c7528d0",
   "metadata": {},
   "outputs": [],
   "source": []
  }
 ],
 "metadata": {
  "kernelspec": {
   "display_name": "Python 3",
   "language": "python",
   "name": "python3"
  },
  "language_info": {
   "codemirror_mode": {
    "name": "ipython",
    "version": 3
   },
   "file_extension": ".py",
   "mimetype": "text/x-python",
   "name": "python",
   "nbconvert_exporter": "python",
   "pygments_lexer": "ipython3",
   "version": "3.9.2"
  }
 },
 "nbformat": 4,
 "nbformat_minor": 5
}
