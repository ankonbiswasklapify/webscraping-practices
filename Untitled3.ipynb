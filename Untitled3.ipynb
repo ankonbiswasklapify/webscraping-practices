{
 "cells": [
  {
   "cell_type": "code",
   "execution_count": 6,
   "id": "6ae6d7d5-2785-48a8-a720-5175f321279c",
   "metadata": {},
   "outputs": [
    {
     "name": "stderr",
     "output_type": "stream",
     "text": [
      "\n",
      "\n",
      "====== WebDriver manager ======\n",
      "Current google-chrome version is 104.0.5112\n",
      "Get LATEST driver version for 104.0.5112\n",
      "Driver [C:\\Users\\USER\\.wdm\\drivers\\chromedriver\\win32\\104.0.5112.79\\chromedriver.exe] found in cache\n"
     ]
    },
    {
     "ename": "AttributeError",
     "evalue": "'NoneType' object has no attribute 'find_all'",
     "output_type": "error",
     "traceback": [
      "\u001b[1;31m---------------------------------------------------------------------------\u001b[0m",
      "\u001b[1;31mAttributeError\u001b[0m                            Traceback (most recent call last)",
      "\u001b[1;32m<ipython-input-6-ecbd0422da49>\u001b[0m in \u001b[0;36m<module>\u001b[1;34m\u001b[0m\n\u001b[0;32m     65\u001b[0m \u001b[1;33m\u001b[0m\u001b[0m\n\u001b[0;32m     66\u001b[0m \u001b[1;33m\u001b[0m\u001b[0m\n\u001b[1;32m---> 67\u001b[1;33m \u001b[0mchaldal\u001b[0m\u001b[1;33m(\u001b[0m\u001b[1;36m1\u001b[0m\u001b[1;33m)\u001b[0m\u001b[1;33m\u001b[0m\u001b[1;33m\u001b[0m\u001b[0m\n\u001b[0m",
      "\u001b[1;32m<ipython-input-6-ecbd0422da49>\u001b[0m in \u001b[0;36mchaldal\u001b[1;34m(page)\u001b[0m\n\u001b[0;32m     19\u001b[0m     \u001b[0mtop\u001b[0m\u001b[1;33m=\u001b[0m\u001b[0msoup\u001b[0m\u001b[1;33m.\u001b[0m\u001b[0mfind\u001b[0m\u001b[1;33m(\u001b[0m\u001b[1;34m'ul'\u001b[0m\u001b[1;33m,\u001b[0m\u001b[0mclass_\u001b[0m\u001b[1;33m=\u001b[0m\u001b[1;34m'level-0'\u001b[0m\u001b[1;33m)\u001b[0m\u001b[1;33m\u001b[0m\u001b[1;33m\u001b[0m\u001b[0m\n\u001b[0;32m     20\u001b[0m    \u001b[1;31m#p print(category)\u001b[0m\u001b[1;33m\u001b[0m\u001b[1;33m\u001b[0m\u001b[1;33m\u001b[0m\u001b[0m\n\u001b[1;32m---> 21\u001b[1;33m     \u001b[0mcategories\u001b[0m \u001b[1;33m=\u001b[0m \u001b[0mtop\u001b[0m\u001b[1;33m.\u001b[0m\u001b[0mfind_all\u001b[0m\u001b[1;33m(\u001b[0m\u001b[1;34m'li'\u001b[0m\u001b[1;33m,\u001b[0m\u001b[0mclass_\u001b[0m\u001b[1;33m=\u001b[0m\u001b[1;34m'topLevel'\u001b[0m\u001b[1;33m)\u001b[0m\u001b[1;33m\u001b[0m\u001b[1;33m\u001b[0m\u001b[0m\n\u001b[0m\u001b[0;32m     22\u001b[0m     \u001b[0mprint\u001b[0m\u001b[1;33m(\u001b[0m\u001b[0mlen\u001b[0m\u001b[1;33m(\u001b[0m\u001b[0mcategories\u001b[0m\u001b[1;33m)\u001b[0m\u001b[1;33m)\u001b[0m\u001b[1;33m\u001b[0m\u001b[1;33m\u001b[0m\u001b[0m\n\u001b[0;32m     23\u001b[0m     \u001b[0mtime\u001b[0m\u001b[1;33m.\u001b[0m\u001b[0msleep\u001b[0m\u001b[1;33m(\u001b[0m\u001b[1;36m5\u001b[0m\u001b[1;33m)\u001b[0m\u001b[1;33m\u001b[0m\u001b[1;33m\u001b[0m\u001b[0m\n",
      "\u001b[1;31mAttributeError\u001b[0m: 'NoneType' object has no attribute 'find_all'"
     ]
    }
   ],
   "source": [
    "\n",
    "import requests\n",
    "from selenium import webdriver\n",
    "from webdriver_manager.chrome import ChromeDriverManager\n",
    "from selenium.webdriver.common.by import By\n",
    "from selenium.webdriver.common.keys import Keys\n",
    "from selenium.webdriver.support.ui import WebDriverWait \n",
    "from selenium.webdriver.support import expected_conditions as EC\n",
    "import time\n",
    "from bs4 import BeautifulSoup\n",
    "def chaldal (page):\n",
    "    url = 'https://chaldal.com/'\n",
    "   # offers = url + 'discounts'\n",
    "    driver = webdriver.Chrome(ChromeDriverManager().install())\n",
    "    driver.get(url)\n",
    "    wait = WebDriverWait(driver, 30) \n",
    "    driver.maximize_window()\n",
    "    time.sleep(4)\n",
    "    soup = BeautifulSoup(driver.page_source,'html.parser')\n",
    "    top=soup.find('ul',class_='level-0')\n",
    "   #p print(category)\n",
    "    categories = top.find_all('li',class_='topLevel')\n",
    "    print(len(categories))\n",
    "    time.sleep(5)\n",
    "    for category in categories:\n",
    "        category_name = category.find_all('div',class_='name')[0].text\n",
    "        category_name = category_name.replace('�','')\n",
    "        category_name = category_name.lstrip().rstrip()\n",
    "        click_element = driver.find_element(By.LINK_TEXT, category_name)\n",
    "        time.sleep(4)\n",
    "        click_element.click()\n",
    "        time.sleep(10)\n",
    "        html1 = driver.page_source\n",
    "        soup1 = bs4.BeautifulSoup(html1)\n",
    "        lvl1=soup.find('ul',class_='level-1')\n",
    "        subcategories = top.find_all('li',class_='not-in-selection-tree')\n",
    "        for subcategory in subcategories:\n",
    "            subcategory_name = subcategory.find_all('div',class_='name')[0].text\n",
    "            print(subcategory_name)\n",
    "\n",
    "    #===> EI PART TA KAJ KORCHE NA\n",
    "#     personal_care=driver.find_element(By.CLASS_NAME,'name')\n",
    "#     print(personal_care)\n",
    "#     personal_care.click()\n",
    "#     time.sleep(5) \n",
    "#     sub_category=personal_care.find_all('ul',class_='level-1') \n",
    "#     print(len(sub_category)) #--->total sub_category hobe 8\n",
    "\n",
    "#     for items in sub_category:\n",
    "#         items_name=items.find_all('ul',class_='level-1')\n",
    "#         click_element=driver.find_element(By.LINK_TEXT,'Personal Care')\n",
    "#         time.sleep(4)\n",
    "#         click_element.click()\n",
    "#         time.sleep(7)\n",
    "\n",
    "\n",
    "#     driver.back()\n",
    "#     time.sleep(5)\n",
    "\n",
    "#     # health=\n",
    "\n",
    "        \n",
    "def extract(soup): \n",
    "    print(category_name)\n",
    "       \n",
    "   \n",
    "\n",
    "chaldal(1)\n"
   ]
  },
  {
   "cell_type": "code",
   "execution_count": null,
   "id": "12aaef7b-89c4-49d1-9891-fdc0960869d7",
   "metadata": {},
   "outputs": [],
   "source": []
  },
  {
   "cell_type": "code",
   "execution_count": null,
   "id": "61fbcbc8-e83e-4404-abb4-d64cfadc4a3e",
   "metadata": {},
   "outputs": [],
   "source": []
  }
 ],
 "metadata": {
  "kernelspec": {
   "display_name": "Python 3",
   "language": "python",
   "name": "python3"
  },
  "language_info": {
   "codemirror_mode": {
    "name": "ipython",
    "version": 3
   },
   "file_extension": ".py",
   "mimetype": "text/x-python",
   "name": "python",
   "nbconvert_exporter": "python",
   "pygments_lexer": "ipython3",
   "version": "3.9.2"
  }
 },
 "nbformat": 4,
 "nbformat_minor": 5
}
