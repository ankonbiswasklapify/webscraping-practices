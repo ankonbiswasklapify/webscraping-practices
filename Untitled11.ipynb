{
 "cells": [
  {
   "cell_type": "code",
   "execution_count": 1,
   "id": "49760259-3738-4782-b765-f0e12ec472c3",
   "metadata": {},
   "outputs": [
    {
     "ename": "FileNotFoundError",
     "evalue": "[Errno 2] No such file or directory: 'service.json'",
     "output_type": "error",
     "traceback": [
      "\u001b[1;31m---------------------------------------------------------------------------\u001b[0m",
      "\u001b[1;31mFileNotFoundError\u001b[0m                         Traceback (most recent call last)",
      "\u001b[1;32m<ipython-input-1-f68b8ce34c3a>\u001b[0m in \u001b[0;36m<module>\u001b[1;34m\u001b[0m\n\u001b[0;32m     18\u001b[0m \u001b[1;33m\u001b[0m\u001b[0m\n\u001b[0;32m     19\u001b[0m \u001b[1;33m\u001b[0m\u001b[0m\n\u001b[1;32m---> 20\u001b[1;33m \u001b[0mprivate_key\u001b[0m \u001b[1;33m=\u001b[0m \u001b[0mjson\u001b[0m\u001b[1;33m.\u001b[0m\u001b[0mloads\u001b[0m\u001b[1;33m(\u001b[0m\u001b[0mopen\u001b[0m\u001b[1;33m(\u001b[0m\u001b[0mjson_file\u001b[0m\u001b[1;33m)\u001b[0m\u001b[1;33m.\u001b[0m\u001b[0mread\u001b[0m\u001b[1;33m(\u001b[0m\u001b[1;33m)\u001b[0m\u001b[1;33m)\u001b[0m\u001b[1;33m[\u001b[0m\u001b[1;34m'private_key'\u001b[0m\u001b[1;33m]\u001b[0m\u001b[1;33m\u001b[0m\u001b[1;33m\u001b[0m\u001b[0m\n\u001b[0m\u001b[0;32m     21\u001b[0m \u001b[1;33m\u001b[0m\u001b[0m\n\u001b[0;32m     22\u001b[0m \u001b[0mcredentials\u001b[0m \u001b[1;33m=\u001b[0m \u001b[0mSignedJwtAssertionCredentials\u001b[0m\u001b[1;33m(\u001b[0m\u001b[0mclient_email\u001b[0m\u001b[1;33m,\u001b[0m \u001b[0mprivate_key\u001b[0m\u001b[1;33m,\u001b[0m \u001b[1;34m'https://www.googleapis.com/auth/devstorage.read_only'\u001b[0m\u001b[1;33m)\u001b[0m\u001b[1;33m\u001b[0m\u001b[1;33m\u001b[0m\u001b[0m\n",
      "\u001b[1;31mFileNotFoundError\u001b[0m: [Errno 2] No such file or directory: 'service.json'"
     ]
    }
   ],
   "source": [
    "import json\n",
    "\n",
    "from httplib2 import Http\n",
    "\n",
    "from oauth2client.client import SignedJwtAssertionCredentials\n",
    "\n",
    "from apiclient.discovery import build\n",
    "\n",
    "# Change these variables to fit your case\n",
    "\n",
    "client_email = 'hive-c33dd@appspot.gserviceaccount.com'\n",
    "\n",
    "json_file = 'service.json'\n",
    "\n",
    "cloud_storage_bucket = 'gs://pubsite_prod_8269382738048903338/sales/salesreport_202301.zip'\n",
    "\n",
    "report_to_download = 'earnings/earnings_23.zip'\n",
    "\n",
    "\n",
    "private_key = json.loads(open(json_file).read())['private_key']\n",
    "\n",
    "credentials = SignedJwtAssertionCredentials(client_email, private_key, 'https://www.googleapis.com/auth/devstorage.read_only')\n",
    "\n",
    "storage = build('storage', 'v1', http=credentials.authorize(Http()))\n",
    "\n",
    "print(storage.objects().get(bucket=cloud_storage_bucket, object=report_to_download).execute())"
   ]
  },
  {
   "cell_type": "code",
   "execution_count": 2,
   "id": "d7cf877a-d016-4c69-8383-3963ca5a3bc1",
   "metadata": {},
   "outputs": [
    {
     "name": "stdout",
     "output_type": "stream",
     "text": [
      "Collecting oauth2client==1.5.2\n",
      "  Downloading oauth2client-1.5.2.tar.gz (56 kB)\n",
      "Requirement already satisfied: httplib2>=0.9.1 in c:\\users\\user\\appdata\\local\\programs\\python\\python39\\lib\\site-packages (from oauth2client==1.5.2) (0.21.0)\n",
      "Requirement already satisfied: pyasn1>=0.1.7 in c:\\users\\user\\appdata\\local\\programs\\python\\python39\\lib\\site-packages (from oauth2client==1.5.2) (0.4.8)\n",
      "Requirement already satisfied: pyasn1-modules>=0.0.5 in c:\\users\\user\\appdata\\local\\programs\\python\\python39\\lib\\site-packages (from oauth2client==1.5.2) (0.2.8)\n",
      "Requirement already satisfied: rsa>=3.1.4 in c:\\users\\user\\appdata\\local\\programs\\python\\python39\\lib\\site-packages (from oauth2client==1.5.2) (4.9)\n",
      "Requirement already satisfied: six>=1.6.1 in c:\\users\\user\\appdata\\local\\programs\\python\\python39\\lib\\site-packages (from oauth2client==1.5.2) (1.15.0)\n",
      "Requirement already satisfied: pyparsing!=3.0.0,!=3.0.1,!=3.0.2,!=3.0.3,<4,>=2.4.2; python_version > \"3.0\" in c:\\users\\user\\appdata\\local\\programs\\python\\python39\\lib\\site-packages (from httplib2>=0.9.1->oauth2client==1.5.2) (2.4.7)\n",
      "Building wheels for collected packages: oauth2client\n",
      "  Building wheel for oauth2client (setup.py): started\n",
      "  Building wheel for oauth2client (setup.py): finished with status 'done'\n",
      "  Created wheel for oauth2client: filename=oauth2client-1.5.2-py3-none-any.whl size=71518 sha256=fcdcae64a710e593e12e42a9a47c9b6bab9e37d9992a12e8b1509c6ce089a00e\n",
      "  Stored in directory: c:\\users\\user\\appdata\\local\\pip\\cache\\wheels\\24\\9d\\ad\\219c60a41750b6bbcf2f306fe0d6783628471fdd785a2716cd\n",
      "Successfully built oauth2client\n",
      "Installing collected packages: oauth2client\n",
      "  Attempting uninstall: oauth2client\n",
      "    Found existing installation: oauth2client 4.1.3\n",
      "    Uninstalling oauth2client-4.1.3:\n",
      "      Successfully uninstalled oauth2client-4.1.3\n",
      "Successfully installed oauth2client-1.5.2\n",
      "Note: you may need to restart the kernel to use updated packages.\n"
     ]
    },
    {
     "name": "stderr",
     "output_type": "stream",
     "text": [
      "WARNING: You are using pip version 20.2.3; however, version 23.0.1 is available.\n",
      "You should consider upgrading via the 'c:\\users\\user\\appdata\\local\\programs\\python\\python39\\python.exe -m pip install --upgrade pip' command.\n"
     ]
    }
   ],
   "source": [
    "pip install oauth2client==1.5.2"
   ]
  },
  {
   "cell_type": "code",
   "execution_count": 2,
   "id": "8e54ada0-3301-44c9-ba97-b322800dc6a0",
   "metadata": {},
   "outputs": [
    {
     "name": "stdout",
     "output_type": "stream",
     "text": [
      "Collecting google-api-python-client\n",
      "  Downloading google_api_python_client-2.79.0-py2.py3-none-any.whl (11.0 MB)\n",
      "Collecting uritemplate<5,>=3.0.1\n",
      "  Downloading uritemplate-4.1.1-py2.py3-none-any.whl (10 kB)\n",
      "Requirement already satisfied, skipping upgrade: httplib2<1dev,>=0.15.0 in c:\\users\\user\\appdata\\local\\programs\\python\\python39\\lib\\site-packages (from google-api-python-client) (0.21.0)\n",
      "Requirement already satisfied, skipping upgrade: google-auth<3.0.0dev,>=1.19.0 in c:\\users\\user\\appdata\\local\\programs\\python\\python39\\lib\\site-packages (from google-api-python-client) (2.12.0)\n",
      "Collecting google-auth-httplib2>=0.1.0\n",
      "  Downloading google_auth_httplib2-0.1.0-py2.py3-none-any.whl (9.3 kB)\n",
      "Collecting google-api-core!=2.0.*,!=2.1.*,!=2.2.*,!=2.3.0,<3.0.0dev,>=1.31.5\n",
      "  Downloading google_api_core-2.11.0-py3-none-any.whl (120 kB)\n",
      "Requirement already satisfied, skipping upgrade: pyparsing!=3.0.0,!=3.0.1,!=3.0.2,!=3.0.3,<4,>=2.4.2; python_version > \"3.0\" in c:\\users\\user\\appdata\\local\\programs\\python\\python39\\lib\\site-packages (from httplib2<1dev,>=0.15.0->google-api-python-client) (2.4.7)\n",
      "Requirement already satisfied, skipping upgrade: cachetools<6.0,>=2.0.0 in c:\\users\\user\\appdata\\local\\programs\\python\\python39\\lib\\site-packages (from google-auth<3.0.0dev,>=1.19.0->google-api-python-client) (5.2.0)\n",
      "Requirement already satisfied, skipping upgrade: six>=1.9.0 in c:\\users\\user\\appdata\\local\\programs\\python\\python39\\lib\\site-packages (from google-auth<3.0.0dev,>=1.19.0->google-api-python-client) (1.15.0)\n",
      "Requirement already satisfied, skipping upgrade: rsa<5,>=3.1.4; python_version >= \"3.6\" in c:\\users\\user\\appdata\\local\\programs\\python\\python39\\lib\\site-packages (from google-auth<3.0.0dev,>=1.19.0->google-api-python-client) (4.9)\n",
      "Requirement already satisfied, skipping upgrade: pyasn1-modules>=0.2.1 in c:\\users\\user\\appdata\\local\\programs\\python\\python39\\lib\\site-packages (from google-auth<3.0.0dev,>=1.19.0->google-api-python-client) (0.2.8)\n",
      "Requirement already satisfied, skipping upgrade: requests<3.0.0dev,>=2.18.0 in c:\\users\\user\\appdata\\local\\programs\\python\\python39\\lib\\site-packages (from google-api-core!=2.0.*,!=2.1.*,!=2.2.*,!=2.3.0,<3.0.0dev,>=1.31.5->google-api-python-client) (2.28.1)\n",
      "Collecting googleapis-common-protos<2.0dev,>=1.56.2\n",
      "  Downloading googleapis_common_protos-1.58.0-py2.py3-none-any.whl (223 kB)\n",
      "Requirement already satisfied, skipping upgrade: protobuf!=3.20.0,!=3.20.1,!=4.21.0,!=4.21.1,!=4.21.2,!=4.21.3,!=4.21.4,!=4.21.5,<5.0.0dev,>=3.19.5 in c:\\users\\user\\appdata\\local\\programs\\python\\python39\\lib\\site-packages (from google-api-core!=2.0.*,!=2.1.*,!=2.2.*,!=2.3.0,<3.0.0dev,>=1.31.5->google-api-python-client) (3.19.6)\n",
      "Requirement already satisfied, skipping upgrade: pyasn1>=0.1.3 in c:\\users\\user\\appdata\\local\\programs\\python\\python39\\lib\\site-packages (from rsa<5,>=3.1.4; python_version >= \"3.6\"->google-auth<3.0.0dev,>=1.19.0->google-api-python-client) (0.4.8)\n",
      "Requirement already satisfied, skipping upgrade: certifi>=2017.4.17 in c:\\users\\user\\appdata\\local\\programs\\python\\python39\\lib\\site-packages (from requests<3.0.0dev,>=2.18.0->google-api-core!=2.0.*,!=2.1.*,!=2.2.*,!=2.3.0,<3.0.0dev,>=1.31.5->google-api-python-client) (2022.12.7)\n",
      "Requirement already satisfied, skipping upgrade: charset-normalizer<3,>=2 in c:\\users\\user\\appdata\\local\\programs\\python\\python39\\lib\\site-packages (from requests<3.0.0dev,>=2.18.0->google-api-core!=2.0.*,!=2.1.*,!=2.2.*,!=2.3.0,<3.0.0dev,>=1.31.5->google-api-python-client) (2.1.1)\n",
      "Requirement already satisfied, skipping upgrade: urllib3<1.27,>=1.21.1 in c:\\users\\user\\appdata\\local\\programs\\python\\python39\\lib\\site-packages (from requests<3.0.0dev,>=2.18.0->google-api-core!=2.0.*,!=2.1.*,!=2.2.*,!=2.3.0,<3.0.0dev,>=1.31.5->google-api-python-client) (1.26.4)\n",
      "Requirement already satisfied, skipping upgrade: idna<4,>=2.5 in c:\\users\\user\\appdata\\local\\programs\\python\\python39\\lib\\site-packages (from requests<3.0.0dev,>=2.18.0->google-api-core!=2.0.*,!=2.1.*,!=2.2.*,!=2.3.0,<3.0.0dev,>=1.31.5->google-api-python-client) (2.10)\n",
      "Installing collected packages: uritemplate, google-auth-httplib2, googleapis-common-protos, google-api-core, google-api-python-client\n",
      "Successfully installed google-api-core-2.11.0 google-api-python-client-2.79.0 google-auth-httplib2-0.1.0 googleapis-common-protos-1.58.0 uritemplate-4.1.1\n",
      "Note: you may need to restart the kernel to use updated packages.\n"
     ]
    },
    {
     "name": "stderr",
     "output_type": "stream",
     "text": [
      "ERROR: After October 2020 you may experience errors when installing or updating packages. This is because pip will change the way that it resolves dependency conflicts.\n",
      "\n",
      "We recommend you use --use-feature=2020-resolver to test your packages with the new resolver before it becomes the default.\n",
      "\n",
      "google-api-core 2.11.0 requires google-auth<3.0dev,>=2.14.1, but you'll have google-auth 2.12.0 which is incompatible.\n",
      "WARNING: You are using pip version 20.2.3; however, version 23.0.1 is available.\n",
      "You should consider upgrading via the 'c:\\users\\user\\appdata\\local\\programs\\python\\python39\\python.exe -m pip install --upgrade pip' command.\n"
     ]
    }
   ],
   "source": [
    "pip install --upgrade google-api-python-client"
   ]
  },
  {
   "cell_type": "code",
   "execution_count": null,
   "id": "c3e48ca5-b8af-4e66-a9b4-9c618e855232",
   "metadata": {},
   "outputs": [],
   "source": []
  }
 ],
 "metadata": {
  "kernelspec": {
   "display_name": "Python 3",
   "language": "python",
   "name": "python3"
  },
  "language_info": {
   "codemirror_mode": {
    "name": "ipython",
    "version": 3
   },
   "file_extension": ".py",
   "mimetype": "text/x-python",
   "name": "python",
   "nbconvert_exporter": "python",
   "pygments_lexer": "ipython3",
   "version": "3.9.2"
  }
 },
 "nbformat": 4,
 "nbformat_minor": 5
}
