{
 "cells": [
  {
   "cell_type": "code",
   "execution_count": null,
   "id": "152fac44-401a-4d84-8de0-8f2a8bdf3852",
   "metadata": {},
   "outputs": [],
   "source": [
    "from gtts import gTTS\n",
    "from playsound import playsound\n",
    "import os\n",
    "from pathlib import Path\n",
    "\n",
    "voice = gTTS(\n",
    "    text=\"আমি হুমায়ূন আহমেদের বিশেষ করে তার লেখার একজন একনিষ্ঠ ভক্ত। কেন আমি তার ভক্ত তা আমি কখনো স্পষ্টভাবে ব্যাখ্যা করতে পারব না।\",\n",
    "    lang='bn')\n",
    "voice.save('good.mp3')\n",
    "os.system(\"mpg321 good.mp3\")\n",
    "playsound(\"good.mp3\", False)\n"
   ]
  },
  {
   "cell_type": "code",
   "execution_count": null,
   "id": "4a882f57-c51b-4be1-9ae3-78734286adc8",
   "metadata": {},
   "outputs": [],
   "source": [
    "pip uninstall playsound"
   ]
  },
  {
   "cell_type": "code",
   "execution_count": null,
   "id": "82d87def-dce6-4286-9047-59171c75320c",
   "metadata": {},
   "outputs": [],
   "source": []
  }
 ],
 "metadata": {
  "kernelspec": {
   "display_name": "Python 3",
   "language": "python",
   "name": "python3"
  },
  "language_info": {
   "codemirror_mode": {
    "name": "ipython",
    "version": 3
   },
   "file_extension": ".py",
   "mimetype": "text/x-python",
   "name": "python",
   "nbconvert_exporter": "python",
   "pygments_lexer": "ipython3",
   "version": "3.9.2"
  }
 },
 "nbformat": 4,
 "nbformat_minor": 5
}
