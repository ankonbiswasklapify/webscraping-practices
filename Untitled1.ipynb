{
 "cells": [
  {
   "cell_type": "code",
   "execution_count": 1,
   "id": "8ef20e59-0804-43b4-90ed-920698da2090",
   "metadata": {},
   "outputs": [
    {
     "name": "stderr",
     "output_type": "stream",
     "text": [
      "\n",
      "\n",
      "====== WebDriver manager ======\n",
      "Current google-chrome version is 104.0.5112\n",
      "Get LATEST driver version for 104.0.5112\n",
      "Driver [C:\\Users\\USER\\.wdm\\drivers\\chromedriver\\win32\\104.0.5112.79\\chromedriver.exe] found in cache\n"
     ]
    }
   ],
   "source": [
    "from selenium import webdriver\n",
    "from webdriver_manager.chrome import ChromeDriverManager\n",
    "from selenium.webdriver.common.by import By\n",
    "from selenium.webdriver.common.keys import Keys\n",
    "from selenium.webdriver.support.ui import WebDriverWait \n",
    "from selenium.webdriver.support import expected_conditions as EC\n",
    "import time\n",
    "\n",
    "class homepage():\n",
    "    def home_page(self):\n",
    "        driver=webdriver.Chrome(executable_path=ChromeDriverManager().install())\n",
    "        driver.get(\"https://chaldal.com//\")\n",
    "        wait = WebDriverWait(driver, 30) \n",
    "        driver.maximize_window()\n",
    "        time.sleep(4)\n",
    "\n",
    "        #----> POPULAR\n",
    "        popu_lar=driver.find_element(By.LINK_TEXT, \"Popular\")\n",
    "        time.sleep(4)\n",
    "        popu_lar.click()\n",
    "        time.sleep(10)\n",
    "        top= driver.execute_script('return document.body.scrollHeight')\n",
    "        while True:\n",
    "            driver.execute_script(\"window.scrollTo(0, document.body.scrollHeight);\")\n",
    "            time.sleep(4)\n",
    "            last=driver.execute_script('return document.body.scrollHeight')\n",
    "            if last==top:\n",
    "                break\n",
    "            top=last   \n",
    "        driver.back()\n",
    "        time.sleep(5)\n",
    "        #---->FLASH SALES\n",
    "        flash_sales=driver.find_element(By.PARTIAL_LINK_TEXT,'Flash Sal')\n",
    "        time.sleep(4)\n",
    "        flash_sales.click()\n",
    "        time.sleep(5)\n",
    "        top= driver.execute_script('return document.body.scrollHeight')\n",
    "        while True:\n",
    "            driver.execute_script(\"window.scrollTo(0, document.body.scrollHeight);\")\n",
    "            time.sleep(4)\n",
    "            last=driver.execute_script('return document.body.scrollHeight')\n",
    "            if last==top:\n",
    "                break\n",
    "            top=last   \n",
    "        driver.back()\n",
    "        time.sleep(5)\n",
    "\n",
    "        #---> FOOD\n",
    "        food=driver.find_element(By.LINK_TEXT,'Food')\n",
    "        time.sleep(5)\n",
    "        food.click()\n",
    "        time.sleep(5)\n",
    "        top= driver.execute_script('return document.body.scrollHeight')\n",
    "        while True:\n",
    "            driver.execute_script(\"window.scrollTo(0, document.body.scrollHeight);\")\n",
    "            time.sleep(4)\n",
    "            last=driver.execute_script('return document.body.scrollHeight')\n",
    "            if last==top:\n",
    "                break\n",
    "            top=last   \n",
    "        driver.back()\n",
    "        time.sleep(5)\n",
    "\n",
    "        # for sub_food in food:\n",
    "        #     #food_name=sub_food.drivr.find_element(By.CLASS_NAME,'hasSelection level-1')[0].text\n",
    "        #     food_name=sub_food.drivr.find_element(By.ID,'2')\n",
    "        #     food_name.click()\n",
    "        #     time.sleep(5)\n",
    "        #     #print(food.text)\n",
    "\n",
    "        #--->PERSONAL CARE\n",
    "        personal_care=driver.find_element(By.LINK_TEXT,'Personal Care')\n",
    "        time.sleep(5)\n",
    "        personal_care.click()\n",
    "        time.sleep(5)\n",
    "        top= driver.execute_script('return document.body.scrollHeight')\n",
    "        while True:\n",
    "            driver.execute_script(\"window.scrollTo(0, document.body.scrollHeight);\")\n",
    "            time.sleep(4)\n",
    "            last=driver.execute_script('return document.body.scrollHeight')\n",
    "            if last==top:\n",
    "                break\n",
    "            top=last   \n",
    "        driver.back()\n",
    "        time.sleep(5)\n",
    "\n",
    "        #--> Health\n",
    "        health=driver.find_element(By.LINK_TEXT,'Health & Wellness')\n",
    "        time.sleep(5)\n",
    "        health.click()\n",
    "        time.sleep(5)\n",
    "        top= driver.execute_script('return document.body.scrollHeight')\n",
    "        while True:\n",
    "            driver.execute_script(\"window.scrollTo(0, document.body.scrollHeight);\")\n",
    "            time.sleep(4)\n",
    "            last=driver.execute_script('return document.body.scrollHeight')\n",
    "            if last==top:\n",
    "                break\n",
    "            top=last   \n",
    "        driver.back()\n",
    "        time.sleep(5)\n",
    "\n",
    "\n",
    "\n",
    "\n",
    "obj=homepage()\n",
    "obj.home_page()        "
   ]
  },
  {
   "cell_type": "code",
   "execution_count": 2,
   "id": "a7543617-ea01-42d7-8516-d83ac5f5ce58",
   "metadata": {},
   "outputs": [
    {
     "name": "stdout",
     "output_type": "stream",
     "text": [
      "Collecting mysql-connector-python-rf\n",
      "  Downloading mysql-connector-python-rf-2.2.2.tar.gz (11.9 MB)\n",
      "Building wheels for collected packages: mysql-connector-python-rf\n",
      "  Building wheel for mysql-connector-python-rf (setup.py): started\n",
      "  Building wheel for mysql-connector-python-rf (setup.py): finished with status 'done'\n",
      "  Created wheel for mysql-connector-python-rf: filename=mysql_connector_python_rf-2.2.2-cp39-cp39-win_amd64.whl size=249453 sha256=dc243141c960e2a5e54c8e979956e3cd6c1b2b41dbdb70af05237227e3356320\n",
      "  Stored in directory: c:\\users\\user\\appdata\\local\\pip\\cache\\wheels\\64\\06\\5b\\ef9543936a3f5de15b02775b6ae548a09f3ed2319d20342771\n",
      "Successfully built mysql-connector-python-rf\n",
      "Installing collected packages: mysql-connector-python-rf\n",
      "Successfully installed mysql-connector-python-rf-2.2.2\n",
      "Note: you may need to restart the kernel to use updated packages.\n"
     ]
    },
    {
     "name": "stderr",
     "output_type": "stream",
     "text": [
      "WARNING: You are using pip version 20.2.3; however, version 22.2 is available.\n",
      "You should consider upgrading via the 'c:\\users\\user\\appdata\\local\\programs\\python\\python39\\python.exe -m pip install --upgrade pip' command.\n"
     ]
    }
   ],
   "source": [
    "pip install mysql-connector-python-rf"
   ]
  },
  {
   "cell_type": "code",
   "execution_count": null,
   "id": "cbf02aa3-0281-463b-8e86-59f37e957103",
   "metadata": {},
   "outputs": [],
   "source": []
  }
 ],
 "metadata": {
  "kernelspec": {
   "display_name": "Python 3",
   "language": "python",
   "name": "python3"
  },
  "language_info": {
   "codemirror_mode": {
    "name": "ipython",
    "version": 3
   },
   "file_extension": ".py",
   "mimetype": "text/x-python",
   "name": "python",
   "nbconvert_exporter": "python",
   "pygments_lexer": "ipython3",
   "version": "3.9.2"
  }
 },
 "nbformat": 4,
 "nbformat_minor": 5
}
